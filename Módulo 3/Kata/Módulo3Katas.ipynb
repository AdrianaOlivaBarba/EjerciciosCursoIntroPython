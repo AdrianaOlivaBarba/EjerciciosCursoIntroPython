{
 "cells": [
  {
   "cell_type": "markdown",
   "metadata": {},
   "source": [
    "# Escribir declaraciones if, else, y elif"
   ]
  },
  {
   "cell_type": "markdown",
   "metadata": {},
   "source": [
    "## Ejercicio 1\n",
    "\n",
    "Lógica condicional que imprima una advertencia si un asteroide se acerca a la Tierra demasiado rápido. \n",
    "\n",
    "La velocidad del asteroide varía dependiendo de lo cerca que esté del sol, y cualquier velocidad superior a 25 kilómetros por segundo (km/s) merece una advertencia.\n",
    "\n",
    "El asteroide se acerca, y viaja a una velocidad de 49 km/s."
   ]
  },
  {
   "cell_type": "code",
   "execution_count": 1,
   "metadata": {},
   "outputs": [
    {
     "name": "stdout",
     "output_type": "stream",
     "text": [
      "¡Sal de aquí, un asteroide se acerca!\n"
     ]
    }
   ],
   "source": [
    "asteroide = 49\n",
    "if asteroide > 25:\n",
    "    print('¡Sal de aquí, un asteroide se acerca!')\n",
    "else:\n",
    "    print('Tranquilo, no hay asteroides cerca')"
   ]
  },
  {
   "cell_type": "markdown",
   "metadata": {},
   "source": [
    "## Ejercicio 2\n",
    "\n",
    "Lógica condicional para alertar a las personas de todo el mundo que deben buscar un asteroide en el cielo. \n",
    "\n",
    "Si un asteroide entra en la atmósfera de la Tierra a una velocidad mayor o igual a 20 km/s, a veces produce un rayo de luz que se puede ver desde la Tierra.\n",
    "\n",
    "¡Hay uno que se dirige a la tierra ahora a una velocidad de 19 km/s!"
   ]
  },
  {
   "cell_type": "code",
   "execution_count": 2,
   "metadata": {},
   "outputs": [
    {
     "name": "stdout",
     "output_type": "stream",
     "text": [
      "El cielo esta despejado\n"
     ]
    }
   ],
   "source": [
    "asteroide = 19\n",
    "if asteroide > 20:\n",
    "    print('Look up! ¡Mira el rayo de luz!')\n",
    "elif asteroide == 20:\n",
    "    print('Look up! ¡Mira el rayo de luz!')\n",
    "else:\n",
    "    print('El cielo esta despejado')"
   ]
  },
  {
   "cell_type": "markdown",
   "metadata": {},
   "source": [
    "# Uso de operadores and y or"
   ]
  },
  {
   "cell_type": "markdown",
   "metadata": {},
   "source": [
    "## Ejercicio 3\n",
    "\n",
    "Programa que emita la advertencia o información correcta a la gente de la Tierra, según la velocidad y el tamaño de un asteroide. "
   ]
  },
  {
   "cell_type": "code",
   "execution_count": 3,
   "metadata": {},
   "outputs": [
    {
     "name": "stdout",
     "output_type": "stream",
     "text": [
      "¡Sal de aquí, un asteroide gigante se acerca!\n"
     ]
    }
   ],
   "source": [
    "velocidad_asteroide = 30\n",
    "tamano_asteroide = 27\n",
    "if velocidad_asteroide > 25 and tamano_asteroide > 25:\n",
    "    print('¡Sal de aquí, un asteroide gigante se acerca!')\n",
    "elif velocidad_asteroide >= 20:\n",
    "    print('Look up! ¡Mira el rayo de luz!')\n",
    "elif tamano_asteroide < 25:\n",
    "    print('El cielo esta despejado')\n",
    "else:\n",
    "    print('El cielo esta despejado')"
   ]
  },
  {
   "cell_type": "code",
   "execution_count": 4,
   "metadata": {},
   "outputs": [
    {
     "name": "stdout",
     "output_type": "stream",
     "text": [
      "El cielo esta despejado\n"
     ]
    }
   ],
   "source": [
    "velocidad_asteroide = 15\n",
    "tamano_asteroide = 37\n",
    "if velocidad_asteroide > 25 and tamano_asteroide > 25:\n",
    "    print('¡Sal de aquí, un asteroide gigante se acerca!')\n",
    "elif velocidad_asteroide >= 20:\n",
    "    print('Look up! ¡Mira el rayo de luz!')\n",
    "elif tamano_asteroide < 25:\n",
    "    print('El cielo esta despejado')\n",
    "else:\n",
    "    print('El cielo esta despejado')"
   ]
  },
  {
   "cell_type": "code",
   "execution_count": 5,
   "metadata": {},
   "outputs": [
    {
     "name": "stdout",
     "output_type": "stream",
     "text": [
      "¡Mira el rayo de luz!\n"
     ]
    }
   ],
   "source": [
    "velocidad_asteroide = 23\n",
    "tamano_asteroide = 14\n",
    "if velocidad_asteroide > 25 and tamano_asteroide > 25:\n",
    "    print('¡Sal de aquí, un asteroide gigante se acerca!')\n",
    "elif velocidad_asteroide >= 20:\n",
    "    print('¡Mira el rayo de luz!')\n",
    "elif tamano_asteroide < 25:\n",
    "    print('El cielo esta despejado')\n",
    "else:\n",
    "    print('El cielo esta despejado')"
   ]
  }
 ],
 "metadata": {
  "interpreter": {
   "hash": "9bc004928a6912350614f5bb03c3d08bb6e83e4a9bf410b56d7767e451cf5cc2"
  },
  "kernelspec": {
   "display_name": "Python 3.9.7 ('base')",
   "language": "python",
   "name": "python3"
  },
  "language_info": {
   "codemirror_mode": {
    "name": "ipython",
    "version": 3
   },
   "file_extension": ".py",
   "mimetype": "text/x-python",
   "name": "python",
   "nbconvert_exporter": "python",
   "pygments_lexer": "ipython3",
   "version": "3.9.7"
  },
  "orig_nbformat": 4
 },
 "nbformat": 4,
 "nbformat_minor": 2
}
