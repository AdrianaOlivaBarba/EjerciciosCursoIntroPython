{
 "cells": [
  {
   "cell_type": "markdown",
   "metadata": {},
   "source": [
    "# Crear un paquete"
   ]
  },
  {
   "cell_type": "markdown",
   "metadata": {},
   "source": [
    "## Crear un entorno virtual\n",
    "\n",
    "Para crear el entorno virtual en mac use:\n",
    "\n",
    "virtualenv mi_primer_entorno_virtual"
   ]
  },
  {
   "cell_type": "markdown",
   "metadata": {},
   "source": [
    "## Activar un entorno virtual\n",
    "\n",
    "Para activar el entorno virtual en mac use:\n",
    "\n",
    "source mi_primer_entorno_virtual/bin/activate"
   ]
  },
  {
   "cell_type": "markdown",
   "metadata": {},
   "source": [
    "## Instalación de la biblioteca \n",
    "\n",
    "pip freeze\n",
    "\n",
    "pip install python-dateutil\n",
    "\n",
    "pip freeze"
   ]
  },
  {
   "cell_type": "markdown",
   "metadata": {},
   "source": [
    "## Desactivar un entorno virtual\n",
    "\n",
    "Para desactivar el entorno virtual en mac use:\n",
    "\n",
    "deactivate"
   ]
  }
 ],
 "metadata": {
  "language_info": {
   "name": "python"
  },
  "orig_nbformat": 4
 },
 "nbformat": 4,
 "nbformat_minor": 2
}
